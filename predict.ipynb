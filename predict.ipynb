{
 "cells": [
  {
   "cell_type": "code",
   "execution_count": 1,
   "id": "a42046f4-2fc4-452d-b7b2-626e35a09d70",
   "metadata": {},
   "outputs": [],
   "source": [
    "# Importação das bibliotecas\n",
    "import pandas as pd\n",
    "import numpy as np\n",
    "import matplotlib.pyplot as plt\n",
    "from sklearn.linear_model import LinearRegression\n",
    "# Warning \n",
    "from yellowbrick.regressor import ResidualsPlot "
   ]
  },
  {
   "cell_type": "code",
   "execution_count": 2,
   "id": "d189ebd8-d10f-4e9e-826d-c1f0272a0416",
   "metadata": {},
   "outputs": [
    {
     "data": {
      "text/plain": [
       "(36, 2)"
      ]
     },
     "execution_count": 2,
     "metadata": {},
     "output_type": "execute_result"
    }
   ],
   "source": [
    "# Carregamento da base de dados e exclusão da primeiro coluna\n",
    "base = pd.read_csv('slr12.csv', delimiter=';')\n",
    "base.shape"
   ]
  },
  {
   "cell_type": "code",
   "execution_count": 3,
   "id": "a57414bb-4692-4abc-a3c9-545f9052e0c2",
   "metadata": {},
   "outputs": [
    {
     "data": {
      "text/html": [
       "<div>\n",
       "<style scoped>\n",
       "    .dataframe tbody tr th:only-of-type {\n",
       "        vertical-align: middle;\n",
       "    }\n",
       "\n",
       "    .dataframe tbody tr th {\n",
       "        vertical-align: top;\n",
       "    }\n",
       "\n",
       "    .dataframe thead th {\n",
       "        text-align: right;\n",
       "    }\n",
       "</style>\n",
       "<table border=\"1\" class=\"dataframe\">\n",
       "  <thead>\n",
       "    <tr style=\"text-align: right;\">\n",
       "      <th></th>\n",
       "      <th>FrqAnual</th>\n",
       "      <th>CusInic</th>\n",
       "    </tr>\n",
       "  </thead>\n",
       "  <tbody>\n",
       "    <tr>\n",
       "      <th>0</th>\n",
       "      <td>1000</td>\n",
       "      <td>1050</td>\n",
       "    </tr>\n",
       "    <tr>\n",
       "      <th>1</th>\n",
       "      <td>1125</td>\n",
       "      <td>1150</td>\n",
       "    </tr>\n",
       "    <tr>\n",
       "      <th>2</th>\n",
       "      <td>1087</td>\n",
       "      <td>1213</td>\n",
       "    </tr>\n",
       "    <tr>\n",
       "      <th>3</th>\n",
       "      <td>1070</td>\n",
       "      <td>1275</td>\n",
       "    </tr>\n",
       "    <tr>\n",
       "      <th>4</th>\n",
       "      <td>1100</td>\n",
       "      <td>1300</td>\n",
       "    </tr>\n",
       "  </tbody>\n",
       "</table>\n",
       "</div>"
      ],
      "text/plain": [
       "   FrqAnual  CusInic\n",
       "0      1000     1050\n",
       "1      1125     1150\n",
       "2      1087     1213\n",
       "3      1070     1275\n",
       "4      1100     1300"
      ]
     },
     "execution_count": 3,
     "metadata": {},
     "output_type": "execute_result"
    }
   ],
   "source": [
    "#primeiros valores da base de dados\n",
    "base.head()"
   ]
  },
  {
   "cell_type": "code",
   "execution_count": 4,
   "id": "3bc9a347-d91c-4a1c-861d-75301c9cef4c",
   "metadata": {},
   "outputs": [
    {
     "data": {
      "text/plain": [
       "[]"
      ]
     },
     "execution_count": 4,
     "metadata": {},
     "output_type": "execute_result"
    },
    {
     "data": {
      "image/png": "[encoded data removed]",
      "text/plain": [
       "<Figure size 576x396 with 1 Axes>"
      ]
     },
     "metadata": {},
     "output_type": "display_data"
    }
   ],
   "source": [
    "# Visualização da correlação através do grafico de dispersão\n",
    "plt.scatter(base['FrqAnual'], base['CusInic'])\n",
    "plt.plot()"
   ]
  },
  {
   "cell_type": "code",
   "execution_count": 5,
   "id": "656da9a3-2807-4274-9fdb-6adf98dc9615",
   "metadata": {},
   "outputs": [
    {
     "data": {
      "text/plain": [
       "array([[1.        , 0.47700725],\n",
       "       [0.47700725, 1.        ]])"
      ]
     },
     "execution_count": 5,
     "metadata": {},
     "output_type": "execute_result"
    }
   ],
   "source": [
    "# Criação de X e Y: variável independente e variável dependente\n",
    "# Cálculo da correlação entre X e Y\n",
    "X = base.iloc[:, 0].values #coluna frqanual\n",
    "y = base.iloc[:, 1].values #coluna CusInic\n",
    "correlacao = np.corrcoef(X, y)\n",
    "correlacao"
   ]
  },
  {
   "cell_type": "code",
   "execution_count": 6,
   "id": "87033f17-c043-4ab7-8bde-b59ad65f96c0",
   "metadata": {},
   "outputs": [],
   "source": [
    "#transformando x em matriz para melhor uso do scikit\n",
    "X = X.reshape(-1, 1)"
   ]
  },
  {
   "cell_type": "code",
   "execution_count": 7,
   "id": "063ad763-483f-4beb-bc52-b2708b1a0552",
   "metadata": {},
   "outputs": [
    {
     "data": {
      "text/plain": [
       "LinearRegression()"
      ]
     },
     "execution_count": 7,
     "metadata": {},
     "output_type": "execute_result"
    }
   ],
   "source": [
    "# Criação do modelo, treinamento, visualização dos coeficientes e do score do modelo\n",
    "modelo = LinearRegression()\n",
    "modelo.fit(X, y)"
   ]
  },
  {
   "cell_type": "code",
   "execution_count": 8,
   "id": "68396982-1f14-4b3b-a84c-ffd353eda473",
   "metadata": {},
   "outputs": [
    {
     "data": {
      "text/plain": [
       "867.604222262056"
      ]
     },
     "execution_count": 8,
     "metadata": {},
     "output_type": "execute_result"
    }
   ],
   "source": [
    "#Interceptação\n",
    "modelo.intercept_"
   ]
  },
  {
   "cell_type": "code",
   "execution_count": 9,
   "id": "98b9a0d8-a2fb-4a2b-ba5d-50ce73024948",
   "metadata": {},
   "outputs": [
    {
     "data": {
      "text/plain": [
       "array([0.37315794])"
      ]
     },
     "execution_count": 9,
     "metadata": {},
     "output_type": "execute_result"
    }
   ],
   "source": [
    "#inclinação\n",
    "modelo.coef_"
   ]
  },
  {
   "cell_type": "code",
   "execution_count": 10,
   "id": "6214566c-8871-42e3-8fc1-69e4169007ce",
   "metadata": {},
   "outputs": [
    {
     "data": {
      "text/plain": [
       "0.2275359181555101"
      ]
     },
     "execution_count": 10,
     "metadata": {},
     "output_type": "execute_result"
    }
   ],
   "source": [
    "#score R^2\n",
    "modelo.score(X, y)"
   ]
  },
  {
   "cell_type": "code",
   "execution_count": 11,
   "id": "dba2112c-f8ba-433e-98a8-e22c72f44f54",
   "metadata": {},
   "outputs": [
    {
     "data": {
      "text/plain": [
       "array([1240.76215819, 1287.40690018, 1273.22689862, 1266.88321371,\n",
       "       1278.07795178, 1296.73584858, 1334.05164217, 1296.73584858,\n",
       "       1278.07795178, 1371.36743577, 1343.38059057, 1380.69638416,\n",
       "       1306.06479698, 1315.39374538, 1306.06479698, 1352.70953897,\n",
       "       1337.78322153, 1363.90427705, 1362.03848737, 1315.39374538,\n",
       "       1324.72269377, 1274.34637242, 1268.74900339, 1270.61479307,\n",
       "       1270.61479307, 1307.93058666, 1324.72269377, 1306.06479698,\n",
       "       1334.05164217, 1334.05164217, 1147.47267421, 1287.40690018,\n",
       "       1128.81477741, 1203.4463646 , 1203.4463646 , 1184.7884678 ])"
      ]
     },
     "execution_count": 11,
     "metadata": {},
     "output_type": "execute_result"
    }
   ],
   "source": [
    "# Geração das previsões\n",
    "previsoes = modelo.predict(X)\n",
    "previsoes"
   ]
  },
  {
   "cell_type": "code",
   "execution_count": 12,
   "id": "5a5c7fbf-5b84-4f49-b521-20c1a4cfecbf",
   "metadata": {},
   "outputs": [
    {
     "data": {
      "text/plain": [
       "[<matplotlib.lines.Line2D at 0x7fb48d8bd4c0>]"
      ]
     },
     "execution_count": 12,
     "metadata": {},
     "output_type": "execute_result"
    },
    {
     "data": {
      "image/png": "[encoded data removed]",
      "text/plain": [
       "<Figure size 576x396 with 1 Axes>"
      ]
     },
     "metadata": {},
     "output_type": "display_data"
    }
   ],
   "source": [
    "# Visualização dos resultados\n",
    "plt.scatter(X, y)\n",
    "plt.plot(X, previsoes, color = 'red')"
   ]
  },
  {
   "cell_type": "code",
   "execution_count": 15,
   "id": "906544fd-00ff-45ec-a7bb-f0579d8eb306",
   "metadata": {},
   "outputs": [
    {
     "data": {
      "text/plain": [
       "array([1315.39374538])"
      ]
     },
     "execution_count": 15,
     "metadata": {},
     "output_type": "execute_result"
    }
   ],
   "source": [
    "# Previsão para somente um valor\n",
    "modelo.predict([[1200]])"
   ]
  },
  {
   "cell_type": "code",
   "execution_count": 14,
   "id": "f21546a4-25ba-49b5-9871-533a003d59da",
   "metadata": {},
   "outputs": [
    {
     "data": {
      "image/png": "[encoded data removed]",
      "text/plain": [
       "<Figure size 576x396 with 2 Axes>"
      ]
     },
     "metadata": {},
     "output_type": "display_data"
    },
    {
     "data": {
      "text/plain": [
       "<AxesSubplot:title={'center':'Residuals for LinearRegression Model'}, xlabel='Predicted Value', ylabel='Residuals'>"
      ]
     },
     "execution_count": 14,
     "metadata": {},
     "output_type": "execute_result"
    }
   ],
   "source": [
    "#residuos do modelo\n",
    "visualizador = ResidualsPlot(modelo)\n",
    "visualizador.fit(X, y)\n",
    "visualizador.poof()"
   ]
  }
 ],
 "metadata": {
  "kernelspec": {
   "display_name": "Python 3 (ipykernel)",
   "language": "python",
   "name": "python3"
  },
  "language_info": {
   "codemirror_mode": {
    "name": "ipython",
    "version": 3
   },
   "file_extension": ".py",
   "mimetype": "text/x-python",
   "name": "python",
   "nbconvert_exporter": "python",
   "pygments_lexer": "ipython3",
   "version": "3.9.12"
  }
 },
 "nbformat": 4,
 "nbformat_minor": 5
}
